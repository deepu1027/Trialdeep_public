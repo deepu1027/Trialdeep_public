{
 "cells": [
  {
   "cell_type": "markdown",
   "id": "eca8abf6-e758-4bd7-87dd-46013f8c3e3a",
   "metadata": {},
   "source": [
    "# Data Science Tools and Ecosystem"
   ]
  },
  {
   "cell_type": "markdown",
   "id": "6f781fd0-f834-49df-8190-ac16890e2bf5",
   "metadata": {},
   "source": [
    "In this notebook, Data science tools and ecosystem are summarised"
   ]
  },
  {
   "cell_type": "markdown",
   "id": "da9a51bf-e46b-4194-8e03-4964fb0bbfb6",
   "metadata": {},
   "source": [
    "__Objectives__ \n",
    "\n",
    "* List Popular Languages for Datascience\n",
    "* List commonly used Datascience Libraries\n",
    "* List popular Datascience tools\n",
    "* Few samples of evaluating Arithmetic expressions in Python\n"
   ]
  },
  {
   "cell_type": "markdown",
   "id": "5817a317-05cf-4aea-ac61-00f5309cad27",
   "metadata": {},
   "source": [
    "Some of the popular languages that Data Scientists use are:\n",
    "1. Python\n",
    "2. R\n",
    "3. SQL\n",
    "4. Java\n",
    "5. Scala\n",
    "6. C++\n"
   ]
  },
  {
   "cell_type": "markdown",
   "id": "02bdd50a-ee63-4d56-a790-cc37407f5967",
   "metadata": {},
   "source": [
    "Some of the commonly used libraries used by Data Scientists include:\n",
    "1. Pandas\n",
    "2. Numpy\n",
    "3. Matplotlib\n"
   ]
  },
  {
   "cell_type": "markdown",
   "id": "37efa880-50bf-4b09-a985-566ff8e6a3f2",
   "metadata": {},
   "source": [
    "|DataScience Tools|\n",
    "|-------------------|\n",
    "|Hadoop|\n",
    "|MongoDB|\n",
    "|Jupyter|\n",
    "|Kubernetes|\n",
    "|Github|"
   ]
  },
  {
   "cell_type": "markdown",
   "id": "b539e7fa-a707-4c87-b428-cf33d10b5748",
   "metadata": {},
   "source": [
    "### Below are a few examples of evaluating arithmetic expressions in Python"
   ]
  },
  {
   "cell_type": "code",
   "execution_count": 7,
   "id": "cfd6ebb8-eae5-4967-beed-ad20a35d9604",
   "metadata": {},
   "outputs": [
    {
     "data": {
      "text/plain": [
       "17"
      ]
     },
     "execution_count": 7,
     "metadata": {},
     "output_type": "execute_result"
    }
   ],
   "source": [
    "# This a simple arithmetic expression to mutiply then add integers\n",
    "(3*4)+5"
   ]
  },
  {
   "cell_type": "code",
   "execution_count": 8,
   "id": "2604a18a-12b1-4afc-a089-dfeb253b6cbb",
   "metadata": {},
   "outputs": [
    {
     "name": "stdout",
     "output_type": "stream",
     "text": [
      "3.3333333333333335\n"
     ]
    }
   ],
   "source": [
    "# This will convert 200 minutes to hours by diving by 60\n",
    "x= (200/60)\n",
    "print(x)"
   ]
  },
  {
   "cell_type": "markdown",
   "id": "cbc57621-3e80-46e1-819c-c129efca0ec7",
   "metadata": {},
   "source": [
    "## Author\n",
    "\n",
    "Deepthi Ravikumar"
   ]
  },
  {
   "cell_type": "code",
   "execution_count": null,
   "id": "ebd6d03f-7f8a-4858-b217-a2fce0ece40e",
   "metadata": {},
   "outputs": [],
   "source": []
  }
 ],
 "metadata": {
  "kernelspec": {
   "display_name": "Python 3 (ipykernel)",
   "language": "python",
   "name": "python3"
  },
  "language_info": {
   "codemirror_mode": {
    "name": "ipython",
    "version": 3
   },
   "file_extension": ".py",
   "mimetype": "text/x-python",
   "name": "python",
   "nbconvert_exporter": "python",
   "pygments_lexer": "ipython3",
   "version": "3.12.4"
  }
 },
 "nbformat": 4,
 "nbformat_minor": 5
}
